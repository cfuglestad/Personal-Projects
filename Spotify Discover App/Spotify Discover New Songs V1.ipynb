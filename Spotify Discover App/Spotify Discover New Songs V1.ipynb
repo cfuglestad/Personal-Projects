{
 "cells": [
  {
   "cell_type": "code",
   "execution_count": 8,
   "metadata": {},
   "outputs": [],
   "source": [
    "def common_imports():\n",
    "    import pandas as pd\n",
    "    import matplotlib as plt\n",
    "    import ipywidgets as w\n",
    "    import seaborn as sns\n",
    "\n",
    "def web_scraping_imports():\n",
    "    import requests\n",
    "    import BeautifulSoup\n",
    "\n",
    "common_imports()\n",
    "\n"
   ]
  },
  {
   "cell_type": "code",
   "execution_count": 7,
   "metadata": {},
   "outputs": [
    {
     "name": "stdout",
     "output_type": "stream",
     "text": [
      "Collecting appNote: you may need to restart the kernel to use updated packages.\n",
      "\n",
      "  Downloading app-0.0.1.zip (2.2 kB)\n",
      "Using legacy 'setup.py install' for app, since package 'wheel' is not installed.\n",
      "Installing collected packages: app\n",
      "    Running setup.py install for app: started\n",
      "    Running setup.py install for app: finished with status 'done'\n",
      "Successfully installed app-0.0.1\n"
     ]
    },
    {
     "name": "stderr",
     "output_type": "stream",
     "text": [
      "WARNING: You are using pip version 20.2.3; however, version 23.2.1 is available.\n",
      "You should consider upgrading via the 'c:\\Users\\fuglc\\AppData\\Local\\Programs\\Python\\Python39\\python.exe -m pip install --upgrade pip' command.\n"
     ]
    }
   ],
   "source": [
    "pip install app\n"
   ]
  },
  {
   "cell_type": "markdown",
   "metadata": {},
   "source": [
    "# Start the actual app"
   ]
  },
  {
   "cell_type": "code",
   "execution_count": 1,
   "metadata": {},
   "outputs": [],
   "source": [
    "import spotipy\n",
    "from spotipy.oauth2 import SpotifyClientCredentials\n",
    "from spotipy.oauth2 import SpotifyOAuth\n",
    "\n",
    "import flask\n",
    "from flask import Flask, request, url_for, session, redirect\n",
    "\n",
    "import time"
   ]
  },
  {
   "cell_type": "code",
   "execution_count": 2,
   "metadata": {},
   "outputs": [],
   "source": [
    "# My personal IDs from the spotify for developers website\n",
    "\n",
    "CLIENT_ID = \"937f0dbf83da4cfc9495eff8013c64ae\"\n",
    "CLIENT_SECRET = \"914f7f9db006454ea0a4b877e09e58bb\""
   ]
  },
  {
   "cell_type": "code",
   "execution_count": null,
   "metadata": {},
   "outputs": [],
   "source": [
    "def create_spotify_oauth():\n",
    "    return SpotifyOAuth(client_id = CLIENT_ID\n",
    "                        , client_secret=CLIENT_SECRET\n",
    "                        , redirect_uri=url_for('redirect_page', _external = True)\n",
    "                        , scope = 'user-library-read playlist-modify-public playlist-modify-private')\n",
    "\n",
    "def get_token():\n",
    "    token_info = session.get(TOKEN_INFO, None)\n",
    "    if not token_info:\n",
    "        redirect(url_for('login', external=False))\n",
    "\n",
    "    now = int(time.time())\n",
    "\n",
    "    is_expired = token_info['expires_at'] - now < 60\n",
    "    if is_expired:\n",
    "        spotify_oauth = create_spotify_oauth()\n",
    "        token_info = spotify_oauth.refresh_access_token(token_info['refresh_token'])"
   ]
  },
  {
   "cell_type": "code",
   "execution_count": null,
   "metadata": {},
   "outputs": [],
   "source": [
    "# Initialize the Flask app and define a few routes\n",
    "app = Flask(__name__)\n",
    "\n",
    "app.config['SESSION_COOKIE_NAME'] = 'Spotify Cookie'\n",
    "app.secret_key = 'akdjvi&5%&@*lkclsiej'\n",
    "\n",
    "@app.route('/')\n",
    "def login():\n",
    "    auth_url = create_spotify_oauth().get_authorize_url()\n",
    "    return redirect(auth_url)\n",
    "\n",
    "@app.route('/redirect')\n",
    "def redirect_page():\n",
    "    session.clear()\n",
    "    code = request.args.get('code')\n",
    "    token_info = create_spotify_oauth().get_access_token(code)\n",
    "    session['TOKEN_INFO'] = token_info\n",
    "    return redirect(url_for('save_as_playlist', external=True))\n",
    "\n",
    "@app.route('/saveAsPlaylist')\n",
    "def save_as_playlist():\n",
    "    try:\n",
    "        token_info = get_token()\n",
    "    except:\n",
    "        print(\"User not logged in\")\n",
    "        return redirect(url_for('static'))\n",
    "    \n",
    "    sp = spotipy.Spotify(auth = token_info['access_token'])\n",
    "    current_playlists = spotipy.current_user_playlists()['items']\n",
    "    print(current_playlists)\n",
    "    "
   ]
  },
  {
   "cell_type": "code",
   "execution_count": 19,
   "metadata": {},
   "outputs": [
    {
     "name": "stdout",
     "output_type": "stream",
     "text": [
      " * Serving Flask app '__main__'\n",
      " * Debug mode: on\n"
     ]
    },
    {
     "name": "stderr",
     "output_type": "stream",
     "text": [
      "WARNING: This is a development server. Do not use it in a production deployment. Use a production WSGI server instead.\n",
      " * Running on http://127.0.0.1:5000\n",
      "Press CTRL+C to quit\n",
      "127.0.0.1 - - [03/Sep/2023 08:38:35] \"GET / HTTP/1.1\" 302 -\n",
      "C:\\Users\\fuglc\\AppData\\Local\\Temp\\ipykernel_10372\\3861962896.py:16: DeprecationWarning: You're using 'as_dict = True'.get_access_token will return the token string directly in future versions. Please adjust your code accordingly, or use get_cached_token instead.\n",
      "  token_info = create_spotify_oauth().get_access_token(code)\n",
      "127.0.0.1 - - [03/Sep/2023 08:38:36] \"GET /redirect?code=AQBhV5j5wpuNYjoHSU9UCCoJqU9QSYF7uESe2yWdNIa-Ra02UnOrKUe09kIkXEgOxCYA9jBwZ1wicJAKmj47gHElfzZCvV9XqU5oVQpuEh8JHbfxwDFgGMQgq8D-_d6R6trzuVXS1zlMcCAfTe1X4xsaIVOM57x6RB_jXrb3RybBAqAey4CdO1gjT3QTryHxo5vs10NrdiXuVRCcfvRYZv3_to7h37X-BOlR_GzjeqeGU3biJNDNeyEaBW7HdsqZ97KkpsiN HTTP/1.1\" 302 -\n",
      "127.0.0.1 - - [03/Sep/2023 08:38:36] \"GET /saveAsPlaylist?external=True HTTP/1.1\" 500 -\n"
     ]
    },
    {
     "name": "stdout",
     "output_type": "stream",
     "text": [
      "User not logged in\n"
     ]
    },
    {
     "name": "stderr",
     "output_type": "stream",
     "text": [
      "Traceback (most recent call last):\n",
      "  File \"C:\\Users\\fuglc\\AppData\\Local\\Temp\\ipykernel_10372\\3861962896.py\", line 23, in save_as_playlist\n",
      "    token_info = get_token()\n",
      "  File \"C:\\Users\\fuglc\\AppData\\Local\\Temp\\ipykernel_10372\\165351115.py\", line 8, in get_token\n",
      "    token_info = session.get(TOKEN_INFO, None)\n",
      "NameError: name 'TOKEN_INFO' is not defined\n",
      "\n",
      "During handling of the above exception, another exception occurred:\n",
      "\n",
      "Traceback (most recent call last):\n",
      "  File \"c:\\Users\\fuglc\\AppData\\Local\\Programs\\Python\\Python39\\lib\\site-packages\\flask\\app.py\", line 2213, in __call__\n",
      "    return self.wsgi_app(environ, start_response)\n",
      "  File \"c:\\Users\\fuglc\\AppData\\Local\\Programs\\Python\\Python39\\lib\\site-packages\\flask\\app.py\", line 2193, in wsgi_app\n",
      "    response = self.handle_exception(e)\n",
      "  File \"c:\\Users\\fuglc\\AppData\\Local\\Programs\\Python\\Python39\\lib\\site-packages\\flask\\app.py\", line 2190, in wsgi_app\n",
      "    response = self.full_dispatch_request()\n",
      "  File \"c:\\Users\\fuglc\\AppData\\Local\\Programs\\Python\\Python39\\lib\\site-packages\\flask\\app.py\", line 1486, in full_dispatch_request\n",
      "    rv = self.handle_user_exception(e)\n",
      "  File \"c:\\Users\\fuglc\\AppData\\Local\\Programs\\Python\\Python39\\lib\\site-packages\\flask\\app.py\", line 1484, in full_dispatch_request\n",
      "    rv = self.dispatch_request()\n",
      "  File \"c:\\Users\\fuglc\\AppData\\Local\\Programs\\Python\\Python39\\lib\\site-packages\\flask\\app.py\", line 1469, in dispatch_request\n",
      "    return self.ensure_sync(self.view_functions[rule.endpoint])(**view_args)\n",
      "  File \"C:\\Users\\fuglc\\AppData\\Local\\Temp\\ipykernel_10372\\3861962896.py\", line 26, in save_as_playlist\n",
      "    return redirect(url_for('/'))\n",
      "  File \"c:\\Users\\fuglc\\AppData\\Local\\Programs\\Python\\Python39\\lib\\site-packages\\flask\\helpers.py\", line 225, in url_for\n",
      "    return current_app.url_for(\n",
      "  File \"c:\\Users\\fuglc\\AppData\\Local\\Programs\\Python\\Python39\\lib\\site-packages\\flask\\app.py\", line 1697, in url_for\n",
      "    return self.handle_url_build_error(error, endpoint, values)\n",
      "  File \"c:\\Users\\fuglc\\AppData\\Local\\Programs\\Python\\Python39\\lib\\site-packages\\flask\\app.py\", line 1686, in url_for\n",
      "    rv = url_adapter.build(  # type: ignore[union-attr]\n",
      "  File \"c:\\Users\\fuglc\\AppData\\Local\\Programs\\Python\\Python39\\lib\\site-packages\\werkzeug\\routing\\map.py\", line 950, in build\n",
      "    raise BuildError(endpoint, values, method, self)\n",
      "werkzeug.routing.exceptions.BuildError: Could not build url for endpoint '/'. Did you mean 'static' instead?\n",
      "127.0.0.1 - - [03/Sep/2023 08:38:36] \"GET /saveAsPlaylist?__debugger__=yes&cmd=resource&f=style.css HTTP/1.1\" 304 -\n",
      "127.0.0.1 - - [03/Sep/2023 08:38:36] \"GET /saveAsPlaylist?__debugger__=yes&cmd=resource&f=debugger.js HTTP/1.1\" 304 -\n",
      "127.0.0.1 - - [03/Sep/2023 08:38:36] \"GET /saveAsPlaylist?__debugger__=yes&cmd=resource&f=console.png HTTP/1.1\" 304 -\n"
     ]
    }
   ],
   "source": [
    "app.run(debug=True, use_reloader=False)"
   ]
  }
 ],
 "metadata": {
  "kernelspec": {
   "display_name": "Python 3",
   "language": "python",
   "name": "python3"
  },
  "language_info": {
   "codemirror_mode": {
    "name": "ipython",
    "version": 3
   },
   "file_extension": ".py",
   "mimetype": "text/x-python",
   "name": "python",
   "nbconvert_exporter": "python",
   "pygments_lexer": "ipython3",
   "version": "3.9.4"
  },
  "orig_nbformat": 4
 },
 "nbformat": 4,
 "nbformat_minor": 2
}
